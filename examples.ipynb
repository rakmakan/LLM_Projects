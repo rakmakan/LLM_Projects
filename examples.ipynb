{
 "cells": [
  {
   "cell_type": "code",
   "execution_count": 8,
   "id": "9b0c9aeb-8050-45db-a6b7-2939863d4f7b",
   "metadata": {},
   "outputs": [],
   "source": [
    "import movie_review_data\n",
    "from utils import get_logger\n",
    "import json\n",
    "from sklearn.model_selection import train_test_split\n",
    "from utils import download_save_raw_model, download_save_onnx_models\n",
    "from models import ModelClassBindings\n",
    "logger = get_logger()"
   ]
  },
  {
   "cell_type": "code",
   "execution_count": 9,
   "id": "2af05890-96d6-46a0-9f4f-3e2bce782f87",
   "metadata": {},
   "outputs": [],
   "source": [
    "class Inference_LLM():\n",
    "    def __init__(self, model_name):\n",
    "        logger.info('Inference class initialized')\n",
    "        self.model_name = model_name\n",
    "        self.config = self.get_config()\n",
    "\n",
    "    def get_config(self):\n",
    "        with open('config.json') as f:\n",
    "            config = json.load(f)\n",
    "        return config[self.model_name]\n",
    "\n",
    "    def generate_answer(self, question):   \n",
    "\n",
    "        model_path = self.config['model_path']\n",
    "        handler = ModelClassBindings[self.model_name].value()\n",
    "        handler.load_model(model_path)\n",
    "        prompt = handler.create_prompt(question)\n",
    "        answer = handler.generate_answer(prompt, self.config['args'])\n",
    "\n",
    "    def chat_mode(self):\n",
    "        handler = ModelClassBindings[self.model_name].value()\n",
    "        handler.load_model(self.config['model_path'])\n",
    "        handler.chat_mode(self.config['args'])\n"
   ]
  },
  {
   "cell_type": "markdown",
   "id": "394692af-0b7a-42ab-8812-f954d8b68ec8",
   "metadata": {},
   "source": [
    "# phi3 Onnx"
   ]
  },
  {
   "cell_type": "code",
   "execution_count": null,
   "id": "bdc5fe9e-9faa-4aba-8bc0-52ec56e340ad",
   "metadata": {},
   "outputs": [
    {
     "name": "stdout",
     "output_type": "stream",
     "text": [
      "Entering chat mode. Type 'exit' to quit.\n"
     ]
    },
    {
     "name": "stdin",
     "output_type": "stream",
     "text": [
      "Input:  hello\n"
     ]
    },
    {
     "name": "stdout",
     "output_type": "stream",
     "text": [
      " Hello! How can I assist you today? Whether you have questions or need information, feel free to ask.Output:  Hello! How can I assist you today? Whether you have questions or need information, feel free to ask.\n"
     ]
    },
    {
     "name": "stdin",
     "output_type": "stream",
     "text": [
      "Input:  I need help with a instagram post\n"
     ]
    },
    {
     "name": "stdout",
     "output_type": "stream",
     "text": [
      "Absolutely, I can help you craft an Instagram post. Here's a sample post idea:\n",
      "\n",
      "Title: \"A Day of Serenity at [Location Name]\"\n",
      "\n",
      "Caption: \"Just spent a peaceful day at [Location Name], and I can't wait to share the beauty and tranquility with you all! 🌅✨\n",
      "\n",
      "From the stunning sunrise over the [specific view] to the delicious local cuisine, every moment was a feast for the senses. 🍽️🌊\n",
      "\n",
      "I hope my post inspires you to take a break and enjoy the simple pleasures in life. Let's cherish these moments of serenity together! 💖\n",
      "\n",
      "#Instagram #Travel #Nature #Serenity #LocalCuisine #Sunrise #Sunset #BeautifulViews #TranquilMoments #Explore #InstagramMoments\"\n",
      "\n",
      "Remember to add a relevant and eye-catching image that captures the essence of your experience at the location. Good luck with your post!Output: Absolutely, I can help you craft an Instagram post. Here's a sample post idea:\n",
      "\n",
      "Title: \"A Day of Serenity at [Location Name]\"\n",
      "\n",
      "Caption: \"Just spent a peaceful day at [Location Name], and I can't wait to share the beauty and tranquility with you all! 🌅✨\n",
      "\n",
      "From the stunning sunrise over the [specific view] to the delicious local cuisine, every moment was a feast for the senses. 🍽️🌊\n",
      "\n",
      "I hope my post inspires you to take a break and enjoy the simple pleasures in life. Let's cherish these moments of serenity together! 💖\n",
      "\n",
      "#Instagram #Travel #Nature #Serenity #LocalCuisine #Sunrise #Sunset #BeautifulViews #TranquilMoments #Explore #InstagramMoments\"\n",
      "\n",
      "Remember to add a relevant and eye-catching image that captures the essence of your experience at the location. Good luck with your post!\n"
     ]
    }
   ],
   "source": [
    "phi_obj = Inference_LLM(\"phi_onnx\") \n",
    "phi_obj.chat_mode()"
   ]
  },
  {
   "cell_type": "markdown",
   "id": "db91257c-fedf-40a6-8779-809cc6da947f",
   "metadata": {},
   "source": [
    "# Deep Seek Coder 7-B instruct"
   ]
  },
  {
   "cell_type": "code",
   "execution_count": null,
   "id": "ac59c8a7-4ace-4aa6-a534-8c6b1540c051",
   "metadata": {},
   "outputs": [],
   "source": [
    "Inference_obj = Inference_LLM(\"phi_onnx\") \n",
    "Inference_obj.generate_answer(\"\"\"\n",
    "def quick_sort(arr):\n",
    "    if len(arr) <= 1:\n",
    "        return arr\n",
    "    pivot = arr[0]\n",
    "    left = []\n",
    "    right = []\n",
    "<|fim_hole|>\n",
    "    return quick_sort(left) + [pivot] + quick_sort(right)\n",
    "\"\"\")"
   ]
  }
 ],
 "metadata": {
  "kernelspec": {
   "display_name": "Python 3",
   "language": "python",
   "name": "python3"
  },
  "language_info": {
   "codemirror_mode": {
    "name": "ipython",
    "version": 3
   },
   "file_extension": ".py",
   "mimetype": "text/x-python",
   "name": "python",
   "nbconvert_exporter": "python",
   "pygments_lexer": "ipython3",
   "version": "3.11.9"
  }
 },
 "nbformat": 4,
 "nbformat_minor": 5
}
